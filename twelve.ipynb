{
 "cells": [
  {
   "cell_type": "code",
   "execution_count": 5,
   "metadata": {},
   "outputs": [],
   "source": [
    "import string\n",
    "import networkx as nx\n",
    "import numpy as np"
   ]
  },
  {
   "cell_type": "code",
   "execution_count": 6,
   "metadata": {},
   "outputs": [],
   "source": [
    "with open('./data/12test.txt','r') as f:\n",
    "    data=f.readlines()\n",
    "data = [line.replace('\\n','') for line in data]"
   ]
  },
  {
   "cell_type": "code",
   "execution_count": 7,
   "metadata": {},
   "outputs": [],
   "source": [
    "letters = string.ascii_lowercase"
   ]
  },
  {
   "cell_type": "code",
   "execution_count": 51,
   "metadata": {},
   "outputs": [
    {
     "name": "stdout",
     "output_type": "stream",
     "text": [
      "40\n"
     ]
    }
   ],
   "source": [
    "nrows = len(data)\n",
    "ncols = len(data[0])\n",
    "h= []\n",
    "\n",
    "for i,line in enumerate(data):\n",
    "    for j,c in enumerate(line):\n",
    "        if c =='S':\n",
    "            start = (i,j)\n",
    "            c = 'a'\n",
    "        elif c =='E':\n",
    "            finish = (i,j) \n",
    "            c = 'z'\n",
    "        h.append(letters.index(c)+1)\n",
    "print(len(h))\n",
    "        "
   ]
  },
  {
   "cell_type": "code",
   "execution_count": 52,
   "metadata": {},
   "outputs": [],
   "source": [
    "h = np.array(h).reshape((nrows,ncols))\n",
    "g = nx.DiGraph()\n",
    "for i in range(nrows):\n",
    "    for j in range(ncols):\n",
    "        g.add_node(f'i{i}j{j}')"
   ]
  },
  {
   "cell_type": "code",
   "execution_count": 53,
   "metadata": {},
   "outputs": [],
   "source": [
    "for i in range(nrows):\n",
    "    for j in range(ncols):\n",
    "        for ii,jj in [(i,j+1),(i,j-1),(i+1,j),(i-1,j)]:\n",
    "            if ii>=0 and jj>=0 and ii<nrows and jj<ncols:\n",
    "                if h[ii,jj] <= (h[i,j]+1):\n",
    "                    g.add_edge(f'i{i}j{j}',f'i{ii}j{jj}')"
   ]
  },
  {
   "cell_type": "code",
   "execution_count": 54,
   "metadata": {},
   "outputs": [],
   "source": [
    "p = nx.shortest_path(g, f'i{start[0]}j{start[1]}',f'i{finish[0]}j{finish[1]}')"
   ]
  },
  {
   "cell_type": "code",
   "execution_count": 56,
   "metadata": {},
   "outputs": [
    {
     "data": {
      "text/plain": [
       "31"
      ]
     },
     "execution_count": 56,
     "metadata": {},
     "output_type": "execute_result"
    }
   ],
   "source": [
    "len(p)-1"
   ]
  },
  {
   "cell_type": "code",
   "execution_count": null,
   "metadata": {},
   "outputs": [],
   "source": []
  }
 ],
 "metadata": {
  "kernelspec": {
   "display_name": "Python 3.8.8 ('mercury')",
   "language": "python",
   "name": "python3"
  },
  "language_info": {
   "codemirror_mode": {
    "name": "ipython",
    "version": 3
   },
   "file_extension": ".py",
   "mimetype": "text/x-python",
   "name": "python",
   "nbconvert_exporter": "python",
   "pygments_lexer": "ipython3",
   "version": "3.8.8"
  },
  "orig_nbformat": 4,
  "vscode": {
   "interpreter": {
    "hash": "ca859c5f96f92a7f785bfa44c5fa3151a764642ad1502f9c7f90d48884f822c0"
   }
  }
 },
 "nbformat": 4,
 "nbformat_minor": 2
}

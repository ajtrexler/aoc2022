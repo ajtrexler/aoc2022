{
 "cells": [
  {
   "cell_type": "code",
   "execution_count": null,
   "metadata": {},
   "outputs": [],
   "source": [
    "# read and setup the stacks"
   ]
  },
  {
   "cell_type": "code",
   "execution_count": 143,
   "metadata": {},
   "outputs": [],
   "source": [
    "with open('./data/5_a.txt','r') as f:\n",
    "    data=f.readlines()"
   ]
  },
  {
   "cell_type": "code",
   "execution_count": 145,
   "metadata": {},
   "outputs": [],
   "source": [
    "\n",
    "line = data[-1]\n",
    "line=line.replace('\\n','')\n",
    "num_stacks = max([int(l) for l in line if l[0] in '0123456789'])\n",
    "stacks = [[] for _ in range(num_stacks)]\n",
    "\n",
    "for line in data[::-1][1:]:\n",
    "    line=line.replace('\\n','')\n",
    "    for s,i in enumerate(range(1,len(line),4)):\n",
    "        if line[i] !=' ':\n",
    "            stacks[s].append(line[i])\n"
   ]
  },
  {
   "cell_type": "code",
   "execution_count": null,
   "metadata": {},
   "outputs": [],
   "source": [
    "# read instructions and execute"
   ]
  },
  {
   "cell_type": "code",
   "execution_count": 141,
   "metadata": {},
   "outputs": [],
   "source": [
    "with open('./data/5_b.txt','r') as f:\n",
    "    data=f.readlines()"
   ]
  },
  {
   "cell_type": "code",
   "execution_count": 142,
   "metadata": {},
   "outputs": [
    {
     "name": "stdout",
     "output_type": "stream",
     "text": [
      "MHQTLJRLB\n"
     ]
    }
   ],
   "source": [
    "mover = '9001'\n",
    "for line in data:\n",
    "# line=data[0]\n",
    "    line=line.replace('\\n','').split(' ')\n",
    "    num = int(line[1])\n",
    "    src = int(line[3]) - 1\n",
    "    dest = int(line[5]) - 1\n",
    "    if mover == '9000':\n",
    "        for _ in range(num):\n",
    "            stacks[dest].append(stacks[src].pop())\n",
    "    else:\n",
    "        chunk = stacks[src][-num:]\n",
    "        stacks[src] = stacks[src][:-num]\n",
    "        for c in chunk:\n",
    "            stacks[dest].append(c)\n",
    "        \n",
    "\n",
    "print(''.join([stack[-1] for stack in stacks]))\n",
    "\n"
   ]
  }
 ],
 "metadata": {
  "kernelspec": {
   "display_name": "Python 3.8.8 ('mercury')",
   "language": "python",
   "name": "python3"
  },
  "language_info": {
   "codemirror_mode": {
    "name": "ipython",
    "version": 3
   },
   "file_extension": ".py",
   "mimetype": "text/x-python",
   "name": "python",
   "nbconvert_exporter": "python",
   "pygments_lexer": "ipython3",
   "version": "3.8.8"
  },
  "orig_nbformat": 4,
  "vscode": {
   "interpreter": {
    "hash": "ca859c5f96f92a7f785bfa44c5fa3151a764642ad1502f9c7f90d48884f822c0"
   }
  }
 },
 "nbformat": 4,
 "nbformat_minor": 2
}

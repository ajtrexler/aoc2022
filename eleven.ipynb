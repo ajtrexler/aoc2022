{
 "cells": [
  {
   "cell_type": "code",
   "execution_count": 3,
   "metadata": {},
   "outputs": [],
   "source": [
    "import numpy as np"
   ]
  },
  {
   "cell_type": "code",
   "execution_count": 89,
   "metadata": {},
   "outputs": [],
   "source": [
    "with open('./data/11.txt','r') as f:\n",
    "    data=f.readlines()\n",
    "data = [line.replace('\\n','') for line in data]"
   ]
  },
  {
   "cell_type": "code",
   "execution_count": 96,
   "metadata": {},
   "outputs": [
    {
     "data": {
      "text/plain": [
       "{0: {'items': [98, 89, 52],\n",
       "  'inspections': 0,\n",
       "  'op': 'old * 2',\n",
       "  'test': 5,\n",
       "  'true': 6,\n",
       "  'false': 1},\n",
       " 1: {'items': [57, 95, 80, 92, 57, 78],\n",
       "  'inspections': 0,\n",
       "  'op': 'old * 13',\n",
       "  'test': 2,\n",
       "  'true': 2,\n",
       "  'false': 6},\n",
       " 2: {'items': [82, 74, 97, 75, 51, 92, 83],\n",
       "  'inspections': 0,\n",
       "  'op': 'old + 5',\n",
       "  'test': 19,\n",
       "  'true': 7,\n",
       "  'false': 5},\n",
       " 3: {'items': [97, 88, 51, 68, 76],\n",
       "  'inspections': 0,\n",
       "  'op': 'old + 6',\n",
       "  'test': 7,\n",
       "  'true': 0,\n",
       "  'false': 4},\n",
       " 4: {'items': [63],\n",
       "  'inspections': 0,\n",
       "  'op': 'old + 1',\n",
       "  'test': 17,\n",
       "  'true': 0,\n",
       "  'false': 1},\n",
       " 5: {'items': [94, 91, 51, 63],\n",
       "  'inspections': 0,\n",
       "  'op': 'old + 4',\n",
       "  'test': 13,\n",
       "  'true': 4,\n",
       "  'false': 3},\n",
       " 6: {'items': [61, 54, 94, 71, 74, 68, 98, 83],\n",
       "  'inspections': 0,\n",
       "  'op': 'old + 2',\n",
       "  'test': 3,\n",
       "  'true': 2,\n",
       "  'false': 7},\n",
       " 7: {'items': [90, 56],\n",
       "  'inspections': 0,\n",
       "  'op': 'old * old',\n",
       "  'test': 11,\n",
       "  'true': 3,\n",
       "  'false': 5}}"
      ]
     },
     "execution_count": 96,
     "metadata": {},
     "output_type": "execute_result"
    }
   ],
   "source": [
    "monkeys = {}\n",
    "# factor = 432944575350146076610102196089\n",
    "# factor = 23*19*13*17\n",
    "factor = 5*2*19*7*17*13*3*11\n",
    "# def monkey_op(monkey):\n",
    "    \n",
    "for i,line in enumerate(data):\n",
    "    if 'Monkey' in line:\n",
    "        m = int(line.split(' ')[1].replace(':',''))\n",
    "        monkeys[m] = {}\n",
    "        monkeys[m]['items'] = [int(j) % factor for j in data[i+1].split(':')[1].split(',')]\n",
    "        monkeys[m]['inspections'] = 0\n",
    "        monkeys[m]['op'] = ' '.join(data[i+2].split('new = ')[1].split(' '))\n",
    "        monkeys[m]['test'] = int(data[i+3].split('divisible by ')[1])\n",
    "        monkeys[m]['true'] = int(data[i+4].split('monkey ')[1])\n",
    "        monkeys[m]['false'] = int(data[i+5].split('monkey ')[1])\n",
    "monkeys"
   ]
  },
  {
   "cell_type": "code",
   "execution_count": 97,
   "metadata": {},
   "outputs": [
    {
     "name": "stdout",
     "output_type": "stream",
     "text": [
      "0\n",
      "1000\n",
      "2000\n",
      "3000\n",
      "4000\n",
      "5000\n",
      "6000\n",
      "7000\n",
      "8000\n",
      "9000\n"
     ]
    }
   ],
   "source": [
    "for _ in range(10000):\n",
    "    if _ % 1000 == 0:\n",
    "        print(_)\n",
    "    for i,line in enumerate(data):\n",
    "        if 'Monkey' in line:\n",
    "            m = int(line.split(' ')[1].replace(':',''))\n",
    "            if len(monkeys[m]['items']) >0:\n",
    "                m_items = monkeys[m]['items']\n",
    "                dests = []\n",
    "                news = []\n",
    "                for old in m_items:\n",
    "                    # old = (old[0]*factor) +old[1]\n",
    "                    monkeys[m]['inspections'] += 1\n",
    "                    # print(old)\n",
    "                    new = eval(monkeys[m]['op']) % factor #// 3\n",
    "                    if new % monkeys[m]['test'] == 0:\n",
    "                        dest_m = monkeys[m]['true']\n",
    "                        # new = monkeys[m]['test']\n",
    "                    else:\n",
    "                        dest_m = monkeys[m]['false']\n",
    "                    dests.append(dest_m)\n",
    "                    news.append(new)\n",
    "\n",
    "                for d,n in zip(dests,news):\n",
    "                    monkeys[d]['items'].append(n)\n",
    "                monkeys[m]['items'] = []\n",
    "# monkeys"
   ]
  },
  {
   "cell_type": "code",
   "execution_count": 98,
   "metadata": {},
   "outputs": [
    {
     "name": "stdout",
     "output_type": "stream",
     "text": [
      "[20133, 172759, 174155, 175703, 169190, 171471, 3022, 11362]\n",
      "[175703, 174155]\n"
     ]
    }
   ],
   "source": [
    "inspections = []\n",
    "for m in monkeys:\n",
    "    inspections.append(monkeys[m]['inspections'])\n",
    "print(inspections)\n",
    "print(sorted(inspections,reverse=True)[:2])"
   ]
  },
  {
   "cell_type": "code",
   "execution_count": null,
   "metadata": {},
   "outputs": [],
   "source": []
  }
 ],
 "metadata": {
  "kernelspec": {
   "display_name": "Python 3.8.8 ('mercury')",
   "language": "python",
   "name": "python3"
  },
  "language_info": {
   "codemirror_mode": {
    "name": "ipython",
    "version": 3
   },
   "file_extension": ".py",
   "mimetype": "text/x-python",
   "name": "python",
   "nbconvert_exporter": "python",
   "pygments_lexer": "ipython3",
   "version": "3.8.8"
  },
  "orig_nbformat": 4,
  "vscode": {
   "interpreter": {
    "hash": "ca859c5f96f92a7f785bfa44c5fa3151a764642ad1502f9c7f90d48884f822c0"
   }
  }
 },
 "nbformat": 4,
 "nbformat_minor": 2
}

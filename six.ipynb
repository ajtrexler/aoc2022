{
 "cells": [
  {
   "cell_type": "code",
   "execution_count": 42,
   "metadata": {},
   "outputs": [],
   "source": [
    "with open('./data/6.txt','r') as f:\n",
    "    data=f.read()"
   ]
  },
  {
   "cell_type": "code",
   "execution_count": 38,
   "metadata": {},
   "outputs": [
    {
     "name": "stdout",
     "output_type": "stream",
     "text": [
      "7\n"
     ]
    }
   ],
   "source": [
    "# start of signal detector\n",
    "packet_size = 4\n",
    "for i,c in enumerate(data[packet_size:]):\n",
    "    if len(set(data[i-packet_size:i])) == 4:\n",
    "        print(i)\n",
    "        break\n",
    "\n"
   ]
  },
  {
   "cell_type": "code",
   "execution_count": 43,
   "metadata": {},
   "outputs": [
    {
     "name": "stdout",
     "output_type": "stream",
     "text": [
      "2414\n"
     ]
    }
   ],
   "source": [
    "# start-of-message detector\n",
    "packet_size = 14\n",
    "for i,c in enumerate(data):\n",
    "    if i>packet_size:\n",
    "        if len(set(data[i-packet_size:i])) == packet_size:\n",
    "            print(i)\n",
    "            break"
   ]
  },
  {
   "cell_type": "code",
   "execution_count": null,
   "metadata": {},
   "outputs": [],
   "source": []
  }
 ],
 "metadata": {
  "kernelspec": {
   "display_name": "Python 3.8.8 ('mercury')",
   "language": "python",
   "name": "python3"
  },
  "language_info": {
   "codemirror_mode": {
    "name": "ipython",
    "version": 3
   },
   "file_extension": ".py",
   "mimetype": "text/x-python",
   "name": "python",
   "nbconvert_exporter": "python",
   "pygments_lexer": "ipython3",
   "version": "3.8.8"
  },
  "orig_nbformat": 4,
  "vscode": {
   "interpreter": {
    "hash": "ca859c5f96f92a7f785bfa44c5fa3151a764642ad1502f9c7f90d48884f822c0"
   }
  }
 },
 "nbformat": 4,
 "nbformat_minor": 2
}

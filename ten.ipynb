{
 "cells": [
  {
   "cell_type": "code",
   "execution_count": 208,
   "metadata": {},
   "outputs": [],
   "source": [
    "with open('./data/10.txt','r') as f:\n",
    "    data=f.readlines()\n",
    "data = [line.replace('\\n','') for line in data]"
   ]
  },
  {
   "cell_type": "code",
   "execution_count": 209,
   "metadata": {},
   "outputs": [],
   "source": [
    "register = []\n",
    "for i,c in enumerate(data):\n",
    "    instruction = c.split(' ')\n",
    "    if len(instruction)>1:\n",
    "        \n",
    "        register.append(0)\n",
    "        register.append(int(instruction[1]))\n",
    "    else:\n",
    "        register.append(0)"
   ]
  },
  {
   "cell_type": "code",
   "execution_count": 210,
   "metadata": {},
   "outputs": [
    {
     "name": "stdout",
     "output_type": "stream",
     "text": [
      "20 12 240\n",
      "60 4 240\n",
      "100 39 3900\n",
      "140 22 3080\n",
      "180 17 3060\n",
      "220 21 4620\n",
      "15140\n"
     ]
    }
   ],
   "source": [
    "total = 0\n",
    "for step in range(20,260,40):\n",
    "    print(step,1+sum(register[:step-1]),(1+sum(register[:step-1]))*step)\n",
    "    total += (1+sum(register[:step-1]))*step\n",
    "print(total)"
   ]
  },
  {
   "cell_type": "code",
   "execution_count": 211,
   "metadata": {},
   "outputs": [
    {
     "name": "stdout",
     "output_type": "stream",
     "text": [
      "###..###....##..##..####..##...##..###..\n",
      "#..#.#..#....#.#..#....#.#..#.#..#.#..#.\n",
      "###..#..#....#.#..#...#..#....#..#.#..#.\n",
      "#..#.###.....#.####..#...#.##.####.###..\n",
      "#..#.#....#..#.#..#.#....#..#.#..#.#....\n",
      "###..#.....##..#..#.####..###.#..#.#....\n"
     ]
    }
   ],
   "source": [
    "crt = []\n",
    "for step in range(len(register)):\n",
    "    row = step // 40\n",
    "    col = step % 40\n",
    "    value = 1+sum(register[:step])\n",
    "    if col <= value+1 and col >=value-1:\n",
    "        crt.append('#')\n",
    "    else:\n",
    "        crt.append('.')\n",
    "    if len(crt) % 40 ==0 and len(crt)>0:\n",
    "        print(''.join(crt))\n",
    "        crt = []\n",
    "        "
   ]
  },
  {
   "cell_type": "code",
   "execution_count": null,
   "metadata": {},
   "outputs": [],
   "source": []
  }
 ],
 "metadata": {
  "kernelspec": {
   "display_name": "Python 3.8.8 ('mercury')",
   "language": "python",
   "name": "python3"
  },
  "language_info": {
   "codemirror_mode": {
    "name": "ipython",
    "version": 3
   },
   "file_extension": ".py",
   "mimetype": "text/x-python",
   "name": "python",
   "nbconvert_exporter": "python",
   "pygments_lexer": "ipython3",
   "version": "3.8.8"
  },
  "orig_nbformat": 4,
  "vscode": {
   "interpreter": {
    "hash": "ca859c5f96f92a7f785bfa44c5fa3151a764642ad1502f9c7f90d48884f822c0"
   }
  }
 },
 "nbformat": 4,
 "nbformat_minor": 2
}

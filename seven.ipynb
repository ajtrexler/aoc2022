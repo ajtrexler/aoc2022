{
 "cells": [
  {
   "cell_type": "code",
   "execution_count": 34,
   "metadata": {},
   "outputs": [],
   "source": [
    "with open('./data/7.txt','r') as f:\n",
    "    data=f.readlines()"
   ]
  },
  {
   "cell_type": "code",
   "execution_count": 35,
   "metadata": {},
   "outputs": [],
   "source": [
    "from functools import reduce\n",
    "import operator\n",
    "import re"
   ]
  },
  {
   "cell_type": "code",
   "execution_count": 36,
   "metadata": {},
   "outputs": [],
   "source": [
    "data = [d.replace('\\n','') for d in data]\n"
   ]
  },
  {
   "cell_type": "code",
   "execution_count": 37,
   "metadata": {},
   "outputs": [],
   "source": [
    "def getFromDict(fs, pwds):\n",
    "    return reduce(operator.getitem,pwds,fs)\n",
    "def setInDict(fs,pwds, value):\n",
    "    getFromDict(fs,pwds[:-1])[pwds[-1]] = value"
   ]
  },
  {
   "cell_type": "code",
   "execution_count": 38,
   "metadata": {},
   "outputs": [],
   "source": [
    "fs = {}\n",
    "pwds = []\n",
    "for i,line in enumerate(data):\n",
    "    if 'cd ' in line and 'cd ..' not in line:\n",
    "        src = line.split('cd ')[1]\n",
    "        pwds.append(src)\n",
    "        if data[i+1] == '$ ls':\n",
    "            j = i+2\n",
    "            dests = []\n",
    "            sizes = []\n",
    "            while j<len(data) and '$' not in data[j]:\n",
    "                foo = re.match('(\\d+) (.+)', data[j])\n",
    "                if foo:\n",
    "                    size= int(foo.group(1))\n",
    "                    dest = foo.group(2)\n",
    "                else:\n",
    "                    # print(data[j])\n",
    "                    size = 0\n",
    "                    dest = data[j].split('dir ')[1]\n",
    "                sizes.append(size)\n",
    "                dests.append(dest)\n",
    "                j += 1\n",
    "            if fs == {}:\n",
    "                fs[src]={}\n",
    "\n",
    "                for d,s in zip(dests,sizes):\n",
    "                    if s==0:\n",
    "                        fs[src][d] = {}\n",
    "                    else:\n",
    "                        fs[src][d] = s\n",
    "            else:\n",
    "                for d,s in zip(dests,sizes):\n",
    "                    if s==0:\n",
    "                        \n",
    "                        getFromDict(fs,pwds)[d] = {}\n",
    "                    else:\n",
    "                        getFromDict(fs,pwds)[d] = s\n",
    "\n",
    "    elif 'cd ..' in line:\n",
    "        pwds.pop();\n"
   ]
  },
  {
   "cell_type": "code",
   "execution_count": 39,
   "metadata": {},
   "outputs": [],
   "source": [
    "big_list = []\n",
    "\n",
    "\n",
    "def get_totals(fs):\n",
    "    total = 0\n",
    "    for k,v in fs.items():\n",
    "        if isinstance(v,dict):\n",
    "            \n",
    "            tmp = get_totals(v)\n",
    "            big_list.append((k,tmp))\n",
    "            total += tmp\n",
    "\n",
    "        if isinstance(v,int):\n",
    "            total += v\n",
    "\n",
    "    return total\n",
    "used_space = get_totals(fs)\n",
    "disk_space = 70000000\n",
    "required_free_space = 30000000\n",
    "space_to_find = required_free_space - (disk_space - used_space)"
   ]
  },
  {
   "cell_type": "code",
   "execution_count": 40,
   "metadata": {},
   "outputs": [
    {
     "data": {
      "text/plain": [
       "1581595"
      ]
     },
     "execution_count": 40,
     "metadata": {},
     "output_type": "execute_result"
    }
   ],
   "source": [
    "sum([b[1] for b in big_list if b[1]<100000])"
   ]
  },
  {
   "cell_type": "code",
   "execution_count": 41,
   "metadata": {},
   "outputs": [
    {
     "data": {
      "text/plain": [
       "1544176"
      ]
     },
     "execution_count": 41,
     "metadata": {},
     "output_type": "execute_result"
    }
   ],
   "source": [
    "min([b[1] for b in big_list if b[1]>space_to_find])"
   ]
  }
 ],
 "metadata": {
  "kernelspec": {
   "display_name": "Python 3.8.8 ('mercury')",
   "language": "python",
   "name": "python3"
  },
  "language_info": {
   "codemirror_mode": {
    "name": "ipython",
    "version": 3
   },
   "file_extension": ".py",
   "mimetype": "text/x-python",
   "name": "python",
   "nbconvert_exporter": "python",
   "pygments_lexer": "ipython3",
   "version": "3.8.8"
  },
  "orig_nbformat": 4,
  "vscode": {
   "interpreter": {
    "hash": "ca859c5f96f92a7f785bfa44c5fa3151a764642ad1502f9c7f90d48884f822c0"
   }
  }
 },
 "nbformat": 4,
 "nbformat_minor": 2
}

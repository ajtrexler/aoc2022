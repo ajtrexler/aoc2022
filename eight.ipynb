{
 "cells": [
  {
   "cell_type": "code",
   "execution_count": 102,
   "metadata": {},
   "outputs": [],
   "source": [
    "with open('./data/8.txt','r') as f:\n",
    "    data=f.readlines()\n"
   ]
  },
  {
   "cell_type": "code",
   "execution_count": 61,
   "metadata": {},
   "outputs": [],
   "source": [
    "import numpy as np"
   ]
  },
  {
   "cell_type": "code",
   "execution_count": 103,
   "metadata": {},
   "outputs": [],
   "source": [
    "nrows = len(data[0].replace('\\n',''))\n",
    "ncols = len(data)\n",
    "\n",
    "data = np.array([int(t) for line in data for t in line.replace('\\n','') ]).reshape(nrows,ncols)\n"
   ]
  },
  {
   "cell_type": "code",
   "execution_count": 63,
   "metadata": {},
   "outputs": [
    {
     "name": "stdout",
     "output_type": "stream",
     "text": [
      "1681\n"
     ]
    }
   ],
   "source": [
    "viz_trees = []\n",
    "for r in range(nrows):\n",
    "    for c in range(ncols):\n",
    "        if r % (nrows-1) == 0 or c % (ncols-1) ==0:\n",
    "            viz_trees.append(data[r,c])\n",
    "        else:\n",
    "            tree = data[r,c]\n",
    "            if tree > max(data[r,:c]) or tree > max(data[r,c+1:]) or tree > max(data[:r,c]) or tree > max(data[r+1:,c]):\n",
    "                viz_trees.append(tree)\n",
    "\n",
    "print(len(viz_trees))"
   ]
  },
  {
   "cell_type": "code",
   "execution_count": 104,
   "metadata": {},
   "outputs": [
    {
     "data": {
      "text/plain": [
       "201684"
      ]
     },
     "execution_count": 104,
     "metadata": {},
     "output_type": "execute_result"
    }
   ],
   "source": [
    "def get_view_length(data):\n",
    "    view = 0\n",
    "    for x in data:\n",
    "        view+=1\n",
    "        if x>=tree:\n",
    "            break\n",
    "    return view\n",
    "\n",
    "\n",
    "scenic_scores = []\n",
    "for r in range(nrows):\n",
    "    for c in range(ncols):\n",
    "        if r % (nrows-1) != 0 or c % (ncols-1) !=0:\n",
    "            tree = data[r,c]\n",
    "            scenic_scores.append(np.prod([get_view_length(view) for view in [data[r,:c][::-1], data[r,c+1:],data[:r,c][::-1],data[r+1:,c]]]))\n",
    "max(scenic_scores)       \n",
    "            \n"
   ]
  },
  {
   "cell_type": "code",
   "execution_count": 99,
   "metadata": {},
   "outputs": [
    {
     "data": {
      "text/plain": [
       "[1, 2, 1, 2]"
      ]
     },
     "execution_count": 99,
     "metadata": {},
     "output_type": "execute_result"
    }
   ],
   "source": [
    "r=1\n",
    "c=2\n",
    "tree = data[r,c]\n",
    "[get_view_length(view) for view in [data[r,:c][::-1], data[r,c+1:],data[:r,c][::-1],data[r+1:,c]]]"
   ]
  },
  {
   "cell_type": "code",
   "execution_count": 80,
   "metadata": {},
   "outputs": [
    {
     "data": {
      "text/plain": [
       "[2, 2, 1, 3]"
      ]
     },
     "execution_count": 80,
     "metadata": {},
     "output_type": "execute_result"
    }
   ],
   "source": [
    "r=1\n",
    "c=2\n",
    "tree = data[r,c]\n",
    "[sum(d<=tree) for d in [data[r,:c], data[r,c+1:],data[:r,c],data[r+1:,c]]]"
   ]
  },
  {
   "cell_type": "code",
   "execution_count": 98,
   "metadata": {},
   "outputs": [
    {
     "data": {
      "text/plain": [
       "array([3, 5, 3])"
      ]
     },
     "execution_count": 98,
     "metadata": {},
     "output_type": "execute_result"
    }
   ],
   "source": [
    "data[r+1:,c]"
   ]
  },
  {
   "cell_type": "code",
   "execution_count": 95,
   "metadata": {},
   "outputs": [
    {
     "data": {
      "text/plain": [
       "2"
      ]
     },
     "execution_count": 95,
     "metadata": {},
     "output_type": "execute_result"
    }
   ],
   "source": [
    "r=1\n",
    "c=2\n",
    "tree = data[r,c]\n",
    "view = 0\n",
    "for x in data[r,:c]:\n",
    "    view+=1\n",
    "    if x>=tree:\n",
    "        break\n",
    "view"
   ]
  },
  {
   "cell_type": "code",
   "execution_count": 97,
   "metadata": {},
   "outputs": [
    {
     "data": {
      "text/plain": [
       "array([5, 2])"
      ]
     },
     "execution_count": 97,
     "metadata": {},
     "output_type": "execute_result"
    }
   ],
   "source": [
    "data[r,:c][::-1]"
   ]
  },
  {
   "cell_type": "code",
   "execution_count": null,
   "metadata": {},
   "outputs": [],
   "source": []
  }
 ],
 "metadata": {
  "kernelspec": {
   "display_name": "Python 3.8.8 ('mercury')",
   "language": "python",
   "name": "python3"
  },
  "language_info": {
   "codemirror_mode": {
    "name": "ipython",
    "version": 3
   },
   "file_extension": ".py",
   "mimetype": "text/x-python",
   "name": "python",
   "nbconvert_exporter": "python",
   "pygments_lexer": "ipython3",
   "version": "3.8.8"
  },
  "orig_nbformat": 4,
  "vscode": {
   "interpreter": {
    "hash": "ca859c5f96f92a7f785bfa44c5fa3151a764642ad1502f9c7f90d48884f822c0"
   }
  }
 },
 "nbformat": 4,
 "nbformat_minor": 2
}

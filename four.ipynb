{
 "cells": [
  {
   "cell_type": "code",
   "execution_count": 43,
   "metadata": {},
   "outputs": [],
   "source": [
    "with open('./data/4.txt','r') as f:\n",
    "    data=f.readlines()"
   ]
  },
  {
   "cell_type": "code",
   "execution_count": 44,
   "metadata": {},
   "outputs": [
    {
     "name": "stdout",
     "output_type": "stream",
     "text": [
      "475\n",
      "825\n"
     ]
    }
   ],
   "source": [
    "fully_contained = 0\n",
    "any_overlap = 0\n",
    "for line in data:\n",
    "    sections = line.strip().split(',')\n",
    "    sets = [set(range(int(s.split('-')[0]),int(s.split('-')[1])+1)) for s in sections]\n",
    "    u = len(sets[1].union(sets[0]))\n",
    "    i = sets[0].intersection(sets[1])\n",
    "    if any([len(s)==u for s in sets]):\n",
    "        fully_contained += 1\n",
    "    if len(i)>0:\n",
    "        any_overlap += 1\n",
    "print(fully_contained)\n",
    "print(any_overlap)"
   ]
  },
  {
   "cell_type": "code",
   "execution_count": null,
   "metadata": {},
   "outputs": [],
   "source": []
  }
 ],
 "metadata": {
  "kernelspec": {
   "display_name": "Python 3.8.8 ('mercury')",
   "language": "python",
   "name": "python3"
  },
  "language_info": {
   "codemirror_mode": {
    "name": "ipython",
    "version": 3
   },
   "file_extension": ".py",
   "mimetype": "text/x-python",
   "name": "python",
   "nbconvert_exporter": "python",
   "pygments_lexer": "ipython3",
   "version": "3.8.8"
  },
  "orig_nbformat": 4,
  "vscode": {
   "interpreter": {
    "hash": "ca859c5f96f92a7f785bfa44c5fa3151a764642ad1502f9c7f90d48884f822c0"
   }
  }
 },
 "nbformat": 4,
 "nbformat_minor": 2
}
